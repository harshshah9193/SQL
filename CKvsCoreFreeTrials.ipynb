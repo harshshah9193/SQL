{
  "nbformat": 4,
  "nbformat_minor": 0,
  "metadata": {
    "colab": {
      "name": "Untitled0.ipynb",
      "provenance": [],
      "include_colab_link": true
    },
    "kernelspec": {
      "name": "python3",
      "display_name": "Python 3"
    }
  },
  "cells": [
    {
      "cell_type": "markdown",
      "metadata": {
        "id": "view-in-github",
        "colab_type": "text"
      },
      "source": [
        "<a href=\"https://colab.research.google.com/github/jnunez03/SQL/blob/master/CKvsCoreFreeTrials.ipynb\" target=\"_parent\"><img src=\"https://colab.research.google.com/assets/colab-badge.svg\" alt=\"Open In Colab\"/></a>"
      ]
    },
    {
      "cell_type": "code",
      "metadata": {
        "id": "ACOx56TK4pEX",
        "colab_type": "code",
        "colab": {}
      },
      "source": [
        "import pandas as pd\n",
        "import pandas_profiling\n",
        "import numpy as np\n",
        "from matplotlib import pyplot as plt\n",
        "import seaborn as sb\n",
        "from pandas import Series, DataFrame\n",
        "from pylab import *\n",
        "import statsmodels.api as sm\n",
        "import matplotlib.style as style\n",
        "from matplotlib.ticker import MaxNLocator\n",
        "from matplotlib.font_manager import FontProperties\n",
        "from scipy import stats\n",
        "from scipy.stats import norm\n",
        "from fbprophet import Prophet\n",
        "import logging\n",
        "\n",
        "logger = logging.getLogger('pandas_gbq')\n",
        "logger.propagate = False \n",
        "logging.getLogger().disabled = True\n",
        "\n",
        "q = \"\"\"\n",
        "WITH ft_dates as \n",
        "(\n",
        "SELECT\n",
        "regi_id,\n",
        "FT_start_date,\n",
        "FT_end_date,\n",
        "DATE_TRUNC(FT_start_date,WEEK(MONDAY)) as FT_start_week\n",
        "FROM `nyt-bigquery-beta-workspace.omalley_amanda.CK_FT`\n",
        "WHERE FT_start_date BETWEEN '2019-08-01' AND '2019-09-01' \n",
        "GROUP BY 1,2,3,4\n",
        "),\n",
        "\n",
        "visits as \n",
        "(\n",
        "SELECT\n",
        "a.regi_id,\n",
        "b.FT_start_date,\n",
        "b.FT_end_date,\n",
        "date(a.last_updated_dt_nyct) as days,\n",
        "max(date(a.last_updated_dt_nyct)) as LV\n",
        "FROM `nyt-bigquery-beta-workspace.omalley_amanda.CK_PAY_actives` a \n",
        "JOIN ft_dates b ON a.regi_id = CAST(b.regi_id as string)\n",
        "WHERE last_updated_dt_nyct BETWEEN '2019-08-01' AND '2019-09-29'\n",
        "GROUP BY 1,2,3,4\n",
        "),\n",
        "regi_distinction as (\n",
        "SELECT \n",
        "regi_id,\n",
        "count(distinct days) as visits,\n",
        "count(distinct case when DATE_DIFF(LV,FT_start_date,DAY) < 29 then days else null end) as DV\n",
        "--COUNT(DISTINCT CASE WHEN days <= FT_end_date THEN days else null end) as days_visited\n",
        "FROM visits\n",
        "--WHERE DATE_DIFF(LV,FT_start_date,DAY) < 30\n",
        "group by 1\n",
        "order by 3 desc \n",
        ")\n",
        "\n",
        "SELECT \n",
        "p.regi_id,\n",
        "p.DV,\n",
        "MAX(CASE WHEN lower(curr_bundle_compatibility_group) = 'ck' then 1 ELSE 0 END) as CK,\n",
        "MAX(CASE WHEN lower(curr_bundle_compatibility_group) = 'core' then 1 ELSE 0 END) AS Core\n",
        "FROM `nyt-dssor-prd.dssor_chartio.subscriber_summary_chartio` dssor\n",
        "JOIN regi_distinction p on  cast(dssor.regi_id as string)= p.regi_id\n",
        "group by 1,2\n",
        "order by 2 desc\n",
        "\"\"\"\n",
        "# importing the data\n",
        "df = pd.read_gbq(q,\n",
        "    project_id = 'nyt-bigquery-beta-workspace',\n",
        "    dialect='standard')\n",
        "\n",
        "# Descriptive statistics, data type, data preview \n",
        "print(df.describe(), ' \\n \\n', '*Data Types Below* \\n \\n', df.dtypes ,' \\n \\n', df.head(n=6))"
      ],
      "execution_count": 0,
      "outputs": []
    },
    {
      "cell_type": "code",
      "metadata": {
        "id": "VGXceVBg61Y5",
        "colab_type": "code",
        "colab": {}
      },
      "source": [
        "dfcore = df[df['Core'] != 0]\n",
        "dfck = df[df['Core'] != 1 ]"
      ],
      "execution_count": 0,
      "outputs": []
    },
    {
      "cell_type": "code",
      "metadata": {
        "id": "9ra1IrRc5DAO",
        "colab_type": "code",
        "colab": {}
      },
      "source": [
        "%matplotlib inline\n",
        "style.use('fivethirtyeight')\n",
        "rcParams['figure.figsize'] = 12,8\n",
        "sb.distplot(dfck.DV)\n",
        "\n",
        "dfck.describe()"
      ],
      "execution_count": 0,
      "outputs": []
    },
    {
      "cell_type": "code",
      "metadata": {
        "id": "_Tlg4rIw7fsN",
        "colab_type": "code",
        "colab": {}
      },
      "source": [
        "sb.distplot(dfcore.DV)\n",
        "dfcore.describe()"
      ],
      "execution_count": 0,
      "outputs": []
    },
    {
      "cell_type": "code",
      "metadata": {
        "id": "AGzIl1d16wxV",
        "colab_type": "code",
        "colab": {}
      },
      "source": [
        "x1 = df.loc[df.cut=='Ideal', 'depth']\n",
        "x2 = df.loc[df.cut=='Fair', 'depth']\n",
        "x3 = df.loc[df.cut=='Good', 'depth']\n",
        "\n",
        "kwargs = dict(alpha=0.5, bins=100)\n",
        "\n",
        "plt.hist(x1, **kwargs, color='g', label='Ideal')\n",
        "plt.hist(x2, **kwargs, color='b', label='Fair')\n",
        "plt.hist(x3, **kwargs, color='r', label='Good')\n",
        "plt.gca().set(title='Frequency Histogram of Diamond Depths', ylabel='Frequency')\n",
        "plt.xlim(50,75)\n",
        "plt.legend();"
      ],
      "execution_count": 0,
      "outputs": []
    },
    {
      "cell_type": "code",
      "metadata": {
        "id": "zUr0AtEy8qUt",
        "colab_type": "code",
        "colab": {}
      },
      "source": [
        "sb.countplot(x=\"DV\", data=dfck)"
      ],
      "execution_count": 0,
      "outputs": []
    },
    {
      "cell_type": "code",
      "metadata": {
        "id": "ft34Rug58zph",
        "colab_type": "code",
        "colab": {}
      },
      "source": [
        "dfcore1 = dfcore[dfcore['DV'] < 29]\n",
        "dfck1 = dfck[dfck['DV'] < 29]"
      ],
      "execution_count": 0,
      "outputs": []
    },
    {
      "cell_type": "markdown",
      "metadata": {
        "id": "bw9D_eTl951W",
        "colab_type": "text"
      },
      "source": [
        "\n",
        "\n",
        "# Core Regi Free Trial Data\n",
        "\n",
        "-- Average is not diluted by many people just visiting 1 day like cooking sourced regis. Average days visited is 4.06\n",
        "\n"
      ]
    },
    {
      "cell_type": "markdown",
      "metadata": {
        "id": "L7GtE0it-Y-f",
        "colab_type": "text"
      },
      "source": [
        "DV: stands for Days visited. \n",
        "Core sourced FTs: 117,827"
      ]
    },
    {
      "cell_type": "code",
      "metadata": {
        "id": "0zVnF1E59P1H",
        "colab_type": "code",
        "colab": {
          "base_uri": "https://localhost:8080/",
          "height": 817
        },
        "outputId": "21ac3f50-fe63-4d9a-88bb-23cb8c206a70"
      },
      "source": [
        "sb.countplot(x=\"DV\", data=dfcore1)\n",
        "dfcore1.describe()"
      ],
      "execution_count": 33,
      "outputs": [
        {
          "output_type": "execute_result",
          "data": {
            "text/html": [
              "<div>\n",
              "<style scoped>\n",
              "    .dataframe tbody tr th:only-of-type {\n",
              "        vertical-align: middle;\n",
              "    }\n",
              "\n",
              "    .dataframe tbody tr th {\n",
              "        vertical-align: top;\n",
              "    }\n",
              "\n",
              "    .dataframe thead th {\n",
              "        text-align: right;\n",
              "    }\n",
              "</style>\n",
              "<table border=\"1\" class=\"dataframe\">\n",
              "  <thead>\n",
              "    <tr style=\"text-align: right;\">\n",
              "      <th></th>\n",
              "      <th>DV</th>\n",
              "      <th>CK</th>\n",
              "      <th>Core</th>\n",
              "    </tr>\n",
              "  </thead>\n",
              "  <tbody>\n",
              "    <tr>\n",
              "      <th>count</th>\n",
              "      <td>117827.000000</td>\n",
              "      <td>117827.0</td>\n",
              "      <td>117827.0</td>\n",
              "    </tr>\n",
              "    <tr>\n",
              "      <th>mean</th>\n",
              "      <td>4.069110</td>\n",
              "      <td>1.0</td>\n",
              "      <td>1.0</td>\n",
              "    </tr>\n",
              "    <tr>\n",
              "      <th>std</th>\n",
              "      <td>4.481342</td>\n",
              "      <td>0.0</td>\n",
              "      <td>0.0</td>\n",
              "    </tr>\n",
              "    <tr>\n",
              "      <th>min</th>\n",
              "      <td>0.000000</td>\n",
              "      <td>1.0</td>\n",
              "      <td>1.0</td>\n",
              "    </tr>\n",
              "    <tr>\n",
              "      <th>25%</th>\n",
              "      <td>1.000000</td>\n",
              "      <td>1.0</td>\n",
              "      <td>1.0</td>\n",
              "    </tr>\n",
              "    <tr>\n",
              "      <th>50%</th>\n",
              "      <td>2.000000</td>\n",
              "      <td>1.0</td>\n",
              "      <td>1.0</td>\n",
              "    </tr>\n",
              "    <tr>\n",
              "      <th>75%</th>\n",
              "      <td>5.000000</td>\n",
              "      <td>1.0</td>\n",
              "      <td>1.0</td>\n",
              "    </tr>\n",
              "    <tr>\n",
              "      <th>max</th>\n",
              "      <td>28.000000</td>\n",
              "      <td>1.0</td>\n",
              "      <td>1.0</td>\n",
              "    </tr>\n",
              "  </tbody>\n",
              "</table>\n",
              "</div>"
            ],
            "text/plain": [
              "                  DV        CK      Core\n",
              "count  117827.000000  117827.0  117827.0\n",
              "mean        4.069110       1.0       1.0\n",
              "std         4.481342       0.0       0.0\n",
              "min         0.000000       1.0       1.0\n",
              "25%         1.000000       1.0       1.0\n",
              "50%         2.000000       1.0       1.0\n",
              "75%         5.000000       1.0       1.0\n",
              "max        28.000000       1.0       1.0"
            ]
          },
          "metadata": {
            "tags": []
          },
          "execution_count": 33
        },
        {
          "output_type": "display_data",
          "data": {
            "image/png": "[encoded data removed]",
            "text/plain": [
              "<Figure size 864x576 with 1 Axes>"
            ]
          },
          "metadata": {
            "tags": []
          }
        }
      ]
    },
    {
      "cell_type": "markdown",
      "metadata": {
        "id": "2TtjwN_S-De_",
        "colab_type": "text"
      },
      "source": [
        "# Cooking Regi Free Trial Data \n",
        "\n",
        "Cooking sourced FTs: 286,481\n",
        "\n",
        "-- Average is diluted by many people just visiting 1 day, average days visited is 2.88\n"
      ]
    },
    {
      "cell_type": "code",
      "metadata": {
        "id": "66ecF7To9UMI",
        "colab_type": "code",
        "colab": {
          "base_uri": "https://localhost:8080/",
          "height": 817
        },
        "outputId": "f78f08d6-4306-4e96-c0be-0bc1ddd369d1"
      },
      "source": [
        "sb.countplot(x=\"DV\", data=dfck1)\n",
        "dfck1.describe()"
      ],
      "execution_count": 34,
      "outputs": [
        {
          "output_type": "execute_result",
          "data": {
            "text/html": [
              "<div>\n",
              "<style scoped>\n",
              "    .dataframe tbody tr th:only-of-type {\n",
              "        vertical-align: middle;\n",
              "    }\n",
              "\n",
              "    .dataframe tbody tr th {\n",
              "        vertical-align: top;\n",
              "    }\n",
              "\n",
              "    .dataframe thead th {\n",
              "        text-align: right;\n",
              "    }\n",
              "</style>\n",
              "<table border=\"1\" class=\"dataframe\">\n",
              "  <thead>\n",
              "    <tr style=\"text-align: right;\">\n",
              "      <th></th>\n",
              "      <th>DV</th>\n",
              "      <th>CK</th>\n",
              "      <th>Core</th>\n",
              "    </tr>\n",
              "  </thead>\n",
              "  <tbody>\n",
              "    <tr>\n",
              "      <th>count</th>\n",
              "      <td>286481.000000</td>\n",
              "      <td>286481.0</td>\n",
              "      <td>286481.0</td>\n",
              "    </tr>\n",
              "    <tr>\n",
              "      <th>mean</th>\n",
              "      <td>2.885919</td>\n",
              "      <td>1.0</td>\n",
              "      <td>0.0</td>\n",
              "    </tr>\n",
              "    <tr>\n",
              "      <th>std</th>\n",
              "      <td>3.321803</td>\n",
              "      <td>0.0</td>\n",
              "      <td>0.0</td>\n",
              "    </tr>\n",
              "    <tr>\n",
              "      <th>min</th>\n",
              "      <td>0.000000</td>\n",
              "      <td>1.0</td>\n",
              "      <td>0.0</td>\n",
              "    </tr>\n",
              "    <tr>\n",
              "      <th>25%</th>\n",
              "      <td>1.000000</td>\n",
              "      <td>1.0</td>\n",
              "      <td>0.0</td>\n",
              "    </tr>\n",
              "    <tr>\n",
              "      <th>50%</th>\n",
              "      <td>2.000000</td>\n",
              "      <td>1.0</td>\n",
              "      <td>0.0</td>\n",
              "    </tr>\n",
              "    <tr>\n",
              "      <th>75%</th>\n",
              "      <td>3.000000</td>\n",
              "      <td>1.0</td>\n",
              "      <td>0.0</td>\n",
              "    </tr>\n",
              "    <tr>\n",
              "      <th>max</th>\n",
              "      <td>28.000000</td>\n",
              "      <td>1.0</td>\n",
              "      <td>0.0</td>\n",
              "    </tr>\n",
              "  </tbody>\n",
              "</table>\n",
              "</div>"
            ],
            "text/plain": [
              "                  DV        CK      Core\n",
              "count  286481.000000  286481.0  286481.0\n",
              "mean        2.885919       1.0       0.0\n",
              "std         3.321803       0.0       0.0\n",
              "min         0.000000       1.0       0.0\n",
              "25%         1.000000       1.0       0.0\n",
              "50%         2.000000       1.0       0.0\n",
              "75%         3.000000       1.0       0.0\n",
              "max        28.000000       1.0       0.0"
            ]
          },
          "metadata": {
            "tags": []
          },
          "execution_count": 34
        },
        {
          "output_type": "display_data",
          "data": {
            "image/png": "[encoded data removed]",
            "text/plain": [
              "<Figure size 864x576 with 1 Axes>"
            ]
          },
          "metadata": {
            "tags": []
          }
        }
      ]
    }
  ]
}